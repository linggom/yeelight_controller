{
 "cells": [
  {
   "cell_type": "code",
   "execution_count": 26,
   "metadata": {
    "collapsed": true
   },
   "outputs": [],
   "source": [
    "from socket import *\n",
    "import json"
   ]
  },
  {
   "cell_type": "code",
   "execution_count": 77,
   "metadata": {
    "collapsed": true
   },
   "outputs": [],
   "source": [
    "msg = 'M-SEARCH * HTTP/1.1\\r\\n' \\\n",
    "          'ST:wifi_bulb\\r\\n' \\\n",
    "          'MAN:\"ssdp:discover\"\\r\\n'"
   ]
  },
  {
   "cell_type": "code",
   "execution_count": 78,
   "metadata": {
    "collapsed": true
   },
   "outputs": [],
   "source": [
    "def _socket(sock, ip, port):\n",
    "    if sock is None:\n",
    "        sock = socket(AF_INET, SOCK_STREAM)\n",
    "        sock.settimeout(5)\n",
    "        sock.connect((ip, port))\n",
    "    return sock"
   ]
  },
  {
   "cell_type": "code",
   "execution_count": 79,
   "metadata": {},
   "outputs": [
    {
     "name": "stdout",
     "output_type": "stream",
     "text": [
      "b'HTTP/1.1 200 OK\\r\\nCache-Control: max-age=3600\\r\\nDate: \\r\\nExt: \\r\\nLocation: yeelight://192.168.8.101:55443\\r\\nServer: POSIX UPnP/1.0 YGLC/1\\r\\nid: 0x000000000335c043\\r\\nmodel: mono\\r\\nfw_ver: 40\\r\\nsupport: get_prop set_default set_power toggle set_bright start_cf stop_cf set_scene cron_add cron_get cron_del set_adjust set_name\\r\\npower: off\\r\\nbright: 100\\r\\ncolor_mode: 2\\r\\nct: 4000\\r\\nrgb: 0\\r\\nhue: 0\\r\\nsat: 0\\r\\nname: \\r\\n'\n",
      "b'HTTP/1.1 200 OK\\r\\nCache-Control: max-age=3600\\r\\nDate: \\r\\nExt: \\r\\nLocation: yeelight://192.168.8.101:55443\\r\\nServer: POSIX UPnP/1.0 YGLC/1\\r\\nid: 0x000000000335c043\\r\\nmodel: mono\\r\\nfw_ver: 40\\r\\nsupport: get_prop set_default set_power toggle set_bright start_cf stop_cf set_scene cron_add cron_get cron_del set_adjust set_name\\r\\npower: off\\r\\nbright: 100\\r\\ncolor_mode: 2\\r\\nct: 4000\\r\\nrgb: 0\\r\\nhue: 0\\r\\nsat: 0\\r\\nname: \\r\\n'\n"
     ]
    }
   ],
   "source": [
    "cs = socket(AF_INET, SOCK_DGRAM)\n",
    "cs.setsockopt(SOL_SOCKET, SO_REUSEADDR, 1)\n",
    "cs.setsockopt(SOL_SOCKET, SO_BROADCAST, 1)\n",
    "cs.settimeout(2)\n",
    "cs.sendto(msg.encode(), ('239.255.255.250', 1982))\n",
    "data, addr = (None, None)\n",
    "while True:\n",
    "    try:\n",
    "        data, addr = cs.recvfrom(65507)\n",
    "        print(data)\n",
    "    except :\n",
    "        break"
   ]
  },
  {
   "cell_type": "code",
   "execution_count": 80,
   "metadata": {},
   "outputs": [],
   "source": [
    "capabilities = dict([x.strip(\"\\r\").split(\": \") for x in data.decode().split(\"\\n\") if \":\" in x])"
   ]
  },
  {
   "cell_type": "code",
   "execution_count": 81,
   "metadata": {},
   "outputs": [],
   "source": [
    "from urllib.parse import urlparse"
   ]
  },
  {
   "cell_type": "code",
   "execution_count": 82,
   "metadata": {},
   "outputs": [],
   "source": [
    "url = urlparse(capabilities['Location'])"
   ]
  },
  {
   "cell_type": "code",
   "execution_count": 83,
   "metadata": {},
   "outputs": [],
   "source": [
    "open_socket = _socket(None, url.hostname, url.port)"
   ]
  },
  {
   "cell_type": "code",
   "execution_count": 84,
   "metadata": {
    "collapsed": true
   },
   "outputs": [],
   "source": [
    "cmd_id = 0"
   ]
  },
  {
   "cell_type": "code",
   "execution_count": 90,
   "metadata": {},
   "outputs": [],
   "source": [
    "def turn_light(on=\"on\"):\n",
    "    global cmd_id\n",
    "    command = {\n",
    "                \"id\": cmd_id,\n",
    "                \"method\": \"set_power\",\n",
    "                \"params\": [on],\n",
    "        }\n",
    "    try:   \n",
    "        open_socket.send((json.dumps(command) + \"\\r\\n\").encode(\"utf8\"))\n",
    "    except Exception as ex:\n",
    "        print(ex)\n",
    "    cmd_id = cmd_id + 1"
   ]
  },
  {
   "cell_type": "code",
   "execution_count": 95,
   "metadata": {
    "collapsed": true
   },
   "outputs": [],
   "source": [
    "turn_light(\"on\")"
   ]
  },
  {
   "cell_type": "code",
   "execution_count": 96,
   "metadata": {
    "collapsed": true
   },
   "outputs": [],
   "source": [
    "turn_light(\"off\")"
   ]
  }
 ],
 "metadata": {
  "kernelspec": {
   "display_name": "Python 3",
   "language": "python",
   "name": "python3"
  },
  "language_info": {
   "codemirror_mode": {
    "name": "ipython",
    "version": 3
   },
   "file_extension": ".py",
   "mimetype": "text/x-python",
   "name": "python",
   "nbconvert_exporter": "python",
   "pygments_lexer": "ipython3",
   "version": "3.6.1"
  }
 },
 "nbformat": 4,
 "nbformat_minor": 2
}
